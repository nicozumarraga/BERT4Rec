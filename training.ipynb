{
 "cells": [
  {
   "cell_type": "code",
   "execution_count": 1,
   "id": "836ff49b",
   "metadata": {},
   "outputs": [
    {
     "name": "stdout",
     "output_type": "stream",
     "text": [
      "Thu May  1 11:55:35 2025       \n",
      "+-----------------------------------------------------------------------------------------+\n",
      "| NVIDIA-SMI 550.120                Driver Version: 550.120        CUDA Version: 12.4     |\n",
      "|-----------------------------------------+------------------------+----------------------+\n",
      "| GPU  Name                 Persistence-M | Bus-Id          Disp.A | Volatile Uncorr. ECC |\n",
      "| Fan  Temp   Perf          Pwr:Usage/Cap |           Memory-Usage | GPU-Util  Compute M. |\n",
      "|                                         |                        |               MIG M. |\n",
      "|=========================================+========================+======================|\n",
      "|   0  NVIDIA GeForce RTX 4060        Off |   00000000:01:00.0 Off |                  N/A |\n",
      "| 32%   35C    P8             N/A /  115W |      71MiB /   8188MiB |      0%      Default |\n",
      "|                                         |                        |                  N/A |\n",
      "+-----------------------------------------+------------------------+----------------------+\n",
      "                                                                                         \n",
      "+-----------------------------------------------------------------------------------------+\n",
      "| Processes:                                                                              |\n",
      "|  GPU   GI   CI        PID   Type   Process name                              GPU Memory |\n",
      "|        ID   ID                                                               Usage      |\n",
      "|=========================================================================================|\n",
      "|    0   N/A  N/A   1290312      G   /usr/lib/xorg/Xorg                             56MiB |\n",
      "|    0   N/A  N/A   1290347      G   /usr/bin/gnome-shell                            9MiB |\n",
      "+-----------------------------------------------------------------------------------------+\n"
     ]
    }
   ],
   "source": [
    "! who\n",
    "! nvidia-smi"
   ]
  },
  {
   "cell_type": "code",
   "execution_count": 2,
   "id": "a672dc80",
   "metadata": {},
   "outputs": [
    {
     "name": "stdout",
     "output_type": "stream",
     "text": [
      "True\n"
     ]
    }
   ],
   "source": [
    "import torch\n",
    "from data_preprocessing import DataPreprocessing\n",
    "from data_processing import DataParameters, DataProcessing\n",
    "from training import train, Bert4RecTrainingParams\n",
    "\n",
    "print(torch.cuda.is_available())"
   ]
  },
  {
   "cell_type": "code",
   "execution_count": null,
   "id": "8336205d",
   "metadata": {},
   "outputs": [
    {
     "name": "stdout",
     "output_type": "stream",
     "text": [
      "Max sequence length: 1435\n"
     ]
    },
    {
     "name": "stderr",
     "output_type": "stream",
     "text": [
      "/vol/home/s2357682/.conda/envs/rs/lib/python3.9/site-packages/torch/optim/lr_scheduler.py:62: UserWarning: The verbose parameter is deprecated. Please use get_last_lr() to access the learning rate.\n",
      "  warnings.warn(\n"
     ]
    },
    {
     "name": "stdout",
     "output_type": "stream",
     "text": [
      "Using device cuda\n"
     ]
    },
    {
     "name": "stderr",
     "output_type": "stream",
     "text": [
      "Epoch 1/50:  87%|████████▋ | 2640/3031 [01:31<00:13, 28.63it/s, train_loss=7.06]"
     ]
    }
   ],
   "source": [
    "SEQUENCE_LENGTH = 20\n",
    "\n",
    "data_params = DataParameters(\n",
    "    padding_token=0,\n",
    "    masking_token=1,\n",
    "    pad_length=SEQUENCE_LENGTH,\n",
    ")\n",
    "data_preprocessor = DataPreprocessing(path=\"data/\")\n",
    "data_processor = DataProcessing(preprocessor=data_preprocessor, params=data_params)\n",
    "max_sequence_length = data_processor.get_max_sequence_length()\n",
    "print(f\"Max sequence length: {max_sequence_length}\")\n",
    "\n",
    "training_params = Bert4RecTrainingParams(\n",
    "    vocab_size=data_processor.get_token_count(),\n",
    "    heads=4,\n",
    "    num_hidden_layers=8,\n",
    "    hidden_layer_size=128,\n",
    "    num_pos=max_sequence_length,\n",
    "    epochs=50,\n",
    "    batch_size=128,\n",
    "    learning_rate=1e-3,\n",
    ")\n",
    "\n",
    "model, test_loss = train(data_processor, training_params)"
   ]
  }
 ],
 "metadata": {
  "kernelspec": {
   "display_name": "Python 3",
   "language": "python",
   "name": "python3"
  },
  "language_info": {
   "codemirror_mode": {
    "name": "ipython",
    "version": 3
   },
   "file_extension": ".py",
   "mimetype": "text/x-python",
   "name": "python",
   "nbconvert_exporter": "python",
   "pygments_lexer": "ipython3",
   "version": "3.9.21"
  }
 },
 "nbformat": 4,
 "nbformat_minor": 5
}
