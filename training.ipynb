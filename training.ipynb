{
 "cells": [
  {
   "cell_type": "code",
   "execution_count": null,
   "id": "836ff49b",
   "metadata": {},
   "outputs": [
    {
     "name": "stdout",
     "output_type": "stream",
     "text": [
      "ssh-rsa AAAAB3NzaC1yc2EAAAADAQABAAABAQCztgGDeO9uIp3SAZta31yqTeTx/lQGSCQgm/KqVYsJtM3uCPutaJu3dnGvCxk9mWhH7jQ2pb10z0orjIXCYQnWw8BpoNoCyBPUXtb7MdQybARmxIsZMuXM3votbWWU18LKHM9xaerEUNr48HQENlhRWfsR0G35z+QutNGPAlwEh5IKLMbMOa1VEV6DaxFofT3Yd10ujcNZ02L3YslrWysX3y4XkcmYho1WZjnUMyKxIlbCOVhBeU+cg+JHV3WiBwB1/Rg4HDDS/hj++fScVZT9ui+aVrVX+32atrVOl33/63tD2r8S9fXHvP69dS1fZOcBrG8iWDY0eMmyh86Roe8h s2357682@u0009439\n"
     ]
    }
   ],
   "source": [
    "! cat ~/.ssh/id_rsa"
   ]
  },
  {
   "cell_type": "code",
   "execution_count": 3,
   "id": "a672dc80",
   "metadata": {},
   "outputs": [
    {
     "ename": "ModuleNotFoundError",
     "evalue": "No module named 'data_preprocessing'",
     "output_type": "error",
     "traceback": [
      "\u001b[0;31m---------------------------------------------------------------------------\u001b[0m",
      "\u001b[0;31mModuleNotFoundError\u001b[0m                       Traceback (most recent call last)",
      "Cell \u001b[0;32mIn[3], line 2\u001b[0m\n\u001b[1;32m      1\u001b[0m \u001b[38;5;28;01mimport\u001b[39;00m\u001b[38;5;250m \u001b[39m\u001b[38;5;21;01mtorch\u001b[39;00m\n\u001b[0;32m----> 2\u001b[0m \u001b[38;5;28;01mfrom\u001b[39;00m\u001b[38;5;250m \u001b[39m\u001b[38;5;21;01mdata_preprocessing\u001b[39;00m\u001b[38;5;250m \u001b[39m\u001b[38;5;28;01mimport\u001b[39;00m DataPreprocessing\n\u001b[1;32m      3\u001b[0m \u001b[38;5;28;01mfrom\u001b[39;00m\u001b[38;5;250m \u001b[39m\u001b[38;5;21;01mdata_processing\u001b[39;00m\u001b[38;5;250m \u001b[39m\u001b[38;5;28;01mimport\u001b[39;00m DataParameters, DataProcessing\n\u001b[1;32m      4\u001b[0m \u001b[38;5;28;01mfrom\u001b[39;00m\u001b[38;5;250m \u001b[39m\u001b[38;5;21;01mmodel\u001b[39;00m\u001b[38;5;250m \u001b[39m\u001b[38;5;28;01mimport\u001b[39;00m Bert4RecTrainingParams, train\n",
      "\u001b[0;31mModuleNotFoundError\u001b[0m: No module named 'data_preprocessing'"
     ]
    }
   ],
   "source": [
    "import torch\n",
    "from data_preprocessing import DataPreprocessing\n",
    "from data_processing import DataParameters, DataProcessing\n",
    "from model import Bert4RecTrainingParams, train\n",
    "\n",
    "print(torch.cuda.is_available())"
   ]
  },
  {
   "cell_type": "code",
   "execution_count": null,
   "id": "8336205d",
   "metadata": {},
   "outputs": [],
   "source": [
    "\n",
    "\n",
    "\n",
    "data_params = DataParameters(\n",
    "    padding_token=0,\n",
    "    masking_token=1,\n",
    ")\n",
    "data_preprocessor = DataPreprocessing(path=\"data/\")\n",
    "data_processor = DataProcessing(preprocessor=data_preprocessor, params=data_params)\n",
    "\n",
    "training_params = Bert4RecTrainingParams(\n",
    "    vocab_size=data_processor.get_token_count(),\n",
    "    heads=8,\n",
    "    num_hidden_layers=4,\n",
    "    hidden_layer_size=256,\n",
    "    num_pos=100,\n",
    "    epochs=20,\n",
    "    batch_size=32,\n",
    "    learning_rate=1e-3,\n",
    ")\n",
    "\n",
    "model, test_loss = train(data_processor, training_params)"
   ]
  }
 ],
 "metadata": {
  "kernelspec": {
   "display_name": "Python 3 (ipykernel)",
   "language": "python",
   "name": "python3"
  },
  "language_info": {
   "codemirror_mode": {
    "name": "ipython",
    "version": 3
   },
   "file_extension": ".py",
   "mimetype": "text/x-python",
   "name": "python",
   "nbconvert_exporter": "python",
   "pygments_lexer": "ipython3",
   "version": "3.9.21"
  }
 },
 "nbformat": 4,
 "nbformat_minor": 5
}
