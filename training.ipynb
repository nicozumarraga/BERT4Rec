{
 "cells": [
  {
   "cell_type": "code",
   "execution_count": 2,
   "id": "836ff49b",
   "metadata": {},
   "outputs": [
    {
     "name": "stdout",
     "output_type": "stream",
     "text": [
      "s2357682 pts/0        2025-04-30 12:50 (132.229.92.101)\n",
      "Wed Apr 30 12:57:33 2025       \n",
      "+-----------------------------------------------------------------------------------------+\n",
      "| NVIDIA-SMI 550.120                Driver Version: 550.120        CUDA Version: 12.4     |\n",
      "|-----------------------------------------+------------------------+----------------------+\n",
      "| GPU  Name                 Persistence-M | Bus-Id          Disp.A | Volatile Uncorr. ECC |\n",
      "| Fan  Temp   Perf          Pwr:Usage/Cap |           Memory-Usage | GPU-Util  Compute M. |\n",
      "|                                         |                        |               MIG M. |\n",
      "|=========================================+========================+======================|\n",
      "|   0  NVIDIA GeForce RTX 4060        Off |   00000000:01:00.0 Off |                  N/A |\n",
      "| 53%   69C    P2             N/A /  115W |     438MiB /   8188MiB |     84%      Default |\n",
      "|                                         |                        |                  N/A |\n",
      "+-----------------------------------------+------------------------+----------------------+\n",
      "                                                                                         \n",
      "+-----------------------------------------------------------------------------------------+\n",
      "| Processes:                                                                              |\n",
      "|  GPU   GI   CI        PID   Type   Process name                              GPU Memory |\n",
      "|        ID   ID                                                               Usage      |\n",
      "|=========================================================================================|\n",
      "|    0   N/A  N/A      2120      G   /usr/lib/xorg/Xorg                              4MiB |\n",
      "|    0   N/A  N/A    767411      C   python                                        424MiB |\n",
      "+-----------------------------------------------------------------------------------------+\n"
     ]
    }
   ],
   "source": [
    "! who\n",
    "! nvidia-smi"
   ]
  },
  {
   "cell_type": "code",
   "execution_count": 3,
   "id": "a672dc80",
   "metadata": {},
   "outputs": [
    {
     "name": "stdout",
     "output_type": "stream",
     "text": [
      "True\n"
     ]
    }
   ],
   "source": [
    "import torch\n",
    "from data_preprocessing import DataPreprocessing\n",
    "from data_processing import DataParameters, DataProcessing\n",
    "from model import Bert4RecTrainingParams, train\n",
    "\n",
    "print(torch.cuda.is_available())"
   ]
  },
  {
   "cell_type": "code",
   "execution_count": null,
   "id": "8336205d",
   "metadata": {},
   "outputs": [
    {
     "name": "stdout",
     "output_type": "stream",
     "text": [
      "Using device cuda\n"
     ]
    },
    {
     "name": "stderr",
     "output_type": "stream",
     "text": [
      "/vol/home/s2357682/.conda/envs/rs/lib/python3.9/site-packages/torch/optim/lr_scheduler.py:62: UserWarning: The verbose parameter is deprecated. Please use get_last_lr() to access the learning rate.\n",
      "  warnings.warn(\n",
      "Epoch 1/50: 100%|██████████| 12121/12121 [16:27<00:00, 12.27it/s, train_loss=7.19]\n",
      "Validation: 100%|██████████| 189/189 [00:03<00:00, 54.44it/s]\n"
     ]
    },
    {
     "name": "stdout",
     "output_type": "stream",
     "text": [
      "Epoch 1/50 - Train Loss: 7.1930, Val Loss: 7.2971\n"
     ]
    },
    {
     "name": "stderr",
     "output_type": "stream",
     "text": [
      "Epoch 2/50: 100%|██████████| 12121/12121 [16:27<00:00, 12.27it/s, train_loss=7.17]\n",
      "Validation: 100%|██████████| 189/189 [00:03<00:00, 54.45it/s]\n"
     ]
    },
    {
     "name": "stdout",
     "output_type": "stream",
     "text": [
      "Epoch 2/50 - Train Loss: 7.1659, Val Loss: 7.2888\n"
     ]
    },
    {
     "name": "stderr",
     "output_type": "stream",
     "text": [
      "Epoch 3/50: 100%|██████████| 12121/12121 [16:26<00:00, 12.28it/s, train_loss=7.16]\n",
      "Validation: 100%|██████████| 189/189 [00:03<00:00, 54.69it/s]\n"
     ]
    },
    {
     "name": "stdout",
     "output_type": "stream",
     "text": [
      "Epoch 3/50 - Train Loss: 7.1604, Val Loss: 7.2878\n"
     ]
    },
    {
     "name": "stderr",
     "output_type": "stream",
     "text": [
      "Epoch 4/50:  53%|█████▎    | 6444/12121 [08:42<07:41, 12.31it/s, train_loss=7.16]"
     ]
    }
   ],
   "source": [
    "SEQUENCE_LENGTH = 20\n",
    "\n",
    "data_params = DataParameters(\n",
    "    padding_token=0,\n",
    "    masking_token=1,\n",
    "    pad_length=SEQUENCE_LENGTH,\n",
    ")\n",
    "data_preprocessor = DataPreprocessing(path=\"data/\")\n",
    "data_processor = DataProcessing(preprocessor=data_preprocessor, params=data_params)\n",
    "\n",
    "training_params = Bert4RecTrainingParams(\n",
    "    vocab_size=data_processor.get_token_count(),\n",
    "    heads=12, # same as BERT4Rec paper\n",
    "    num_hidden_layers=12, # same as BERT4Rec paper\n",
    "    hidden_layer_size=768, # same as BERT4Rec paper\n",
    "    num_pos=SEQUENCE_LENGTH,\n",
    "    epochs=50,\n",
    "    batch_size=32,\n",
    "    learning_rate=1e-3,\n",
    ")\n",
    "\n",
    "model, test_loss = train(data_processor, training_params)"
   ]
  }
 ],
 "metadata": {
  "kernelspec": {
   "display_name": "Python 3",
   "language": "python",
   "name": "python3"
  },
  "language_info": {
   "codemirror_mode": {
    "name": "ipython",
    "version": 3
   },
   "file_extension": ".py",
   "mimetype": "text/x-python",
   "name": "python",
   "nbconvert_exporter": "python",
   "pygments_lexer": "ipython3",
   "version": "3.9.21"
  }
 },
 "nbformat": 4,
 "nbformat_minor": 5
}
