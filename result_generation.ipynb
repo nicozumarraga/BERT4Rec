{
 "cells": [
  {
   "cell_type": "code",
   "execution_count": 1,
   "id": "66a500dc",
   "metadata": {},
   "outputs": [],
   "source": [
    "import pandas as pd\n",
    "import numpy as np\n",
    "import os"
   ]
  },
  {
   "cell_type": "markdown",
   "id": "c2b03469",
   "metadata": {},
   "source": [
    "# Ablation study"
   ]
  },
  {
   "cell_type": "code",
   "execution_count": 2,
   "id": "9f7d9169",
   "metadata": {},
   "outputs": [
    {
     "name": "stdout",
     "output_type": "stream",
     "text": [
      "\\begin{tabular}{rrrr}\n",
      "\\toprule\n",
      "hidden\\_layer\\_size & test\\_ndcg@10 & test\\_recall@10 & used\\_epochs \\\\\n",
      "\\midrule\n",
      "64 & 0.054833 & 0.065294 & 48 \\\\\n",
      "128 & 0.055468 & 0.065808 & 34 \\\\\n",
      "256 & 0.052526 & 0.063628 & 35 \\\\\n",
      "\\bottomrule\n",
      "\\end{tabular}\n",
      "\n",
      "\\begin{tabular}{rrrr}\n",
      "\\toprule\n",
      "mask\\_probability & test\\_ndcg@10 & test\\_recall@10 & used\\_epochs \\\\\n",
      "\\midrule\n",
      "0.150000 & 0.052861 & 0.062872 & 32 \\\\\n",
      "0.200000 & 0.057110 & 0.066208 & 30 \\\\\n",
      "0.400000 & 0.057197 & 0.068399 & 49 \\\\\n",
      "\\bottomrule\n",
      "\\end{tabular}\n",
      "\n",
      "\\begin{tabular}{rrrr}\n",
      "\\toprule\n",
      "max\\_sequence\\_length & test\\_ndcg@10 & test\\_recall@10 & used\\_epochs \\\\\n",
      "\\midrule\n",
      "100.000000 & 0.049173 & 0.060140 & 43 \\\\\n",
      "200.000000 & 0.052861 & 0.062872 & 32 \\\\\n",
      "NaN & 0.054840 & 0.065045 & 41 \\\\\n",
      "\\bottomrule\n",
      "\\end{tabular}\n",
      "\n",
      "\\begin{tabular}{rrrr}\n",
      "\\toprule\n",
      "num\\_hidden\\_layers & test\\_ndcg@10 & test\\_recall@10 & used\\_epochs \\\\\n",
      "\\midrule\n",
      "2 & 0.053056 & 0.062899 & 29 \\\\\n",
      "4 & 0.052861 & 0.062872 & 32 \\\\\n",
      "8 & 0.046597 & 0.058668 & 57 \\\\\n",
      "\\bottomrule\n",
      "\\end{tabular}\n",
      "\n",
      "\\begin{tabular}{rrrr}\n",
      "\\toprule\n",
      "pad\\_length & test\\_ndcg@10 & test\\_recall@10 & used\\_epochs \\\\\n",
      "\\midrule\n",
      "20 & 0.039365 & 0.050097 & 41 \\\\\n",
      "50 & 0.049827 & 0.059477 & 36 \\\\\n",
      "\\bottomrule\n",
      "\\end{tabular}\n",
      "\n"
     ]
    }
   ],
   "source": [
    "metrics = (\"test_ndcg@10\", \"test_recall@10\", \"used_epochs\")\n",
    "\n",
    "ablation_study_files = [\n",
    "    (\"layer_size_results.csv\", \"hidden_layer_size\"),\n",
    "    (\"masking_ratio_results.csv\", \"mask_probability\"),\n",
    "    (\"max_sequence_length_results.csv\", \"max_sequence_length\"),\n",
    "    (\"num_layers_results.csv\", \"num_hidden_layers\"),\n",
    "    (\"sequence_length_results.csv\", \"pad_length\"),\n",
    "]\n",
    "\n",
    "for file, parameter in ablation_study_files:\n",
    "    df = pd.read_csv(os.path.join(\"results\", file))\n",
    "    df = df[[parameter, *metrics]]\n",
    "    print(df.to_latex(index=False, escape=True))"
   ]
  },
  {
   "cell_type": "markdown",
   "id": "955925cc",
   "metadata": {},
   "source": [
    "# Grid search"
   ]
  },
  {
   "cell_type": "code",
   "execution_count": 3,
   "id": "aa2d329d",
   "metadata": {},
   "outputs": [
    {
     "name": "stdout",
     "output_type": "stream",
     "text": [
      "\\begin{tabular}{rrrrrr}\n",
      "\\toprule\n",
      "pad\\_length & hidden\\_layer\\_size & learning\\_rate & test\\_ndcg@10 & test\\_recall@10 & used\\_epochs \\\\\n",
      "\\midrule\n",
      "50 & 256 & 0.000500 & 0.050443 & 0.059165 & 29 \\\\\n",
      "50 & 256 & 0.005000 & 0.050285 & 0.059369 & 58 \\\\\n",
      "50 & 128 & 0.001000 & 0.048963 & 0.058538 & 32 \\\\\n",
      "50 & 128 & 0.000500 & 0.048347 & 0.057300 & 29 \\\\\n",
      "50 & 256 & 0.001000 & 0.048196 & 0.057430 & 38 \\\\\n",
      "50 & 128 & 0.005000 & 0.043647 & 0.053944 & 67 \\\\\n",
      "20 & 128 & 0.001000 & 0.041422 & 0.051569 & 43 \\\\\n",
      "20 & 256 & 0.000500 & 0.040565 & 0.050017 & 29 \\\\\n",
      "20 & 256 & 0.001000 & 0.040169 & 0.050754 & 33 \\\\\n",
      "20 & 128 & 0.000500 & 0.039936 & 0.048442 & 33 \\\\\n",
      "20 & 256 & 0.005000 & 0.035651 & 0.046332 & 64 \\\\\n",
      "20 & 128 & 0.005000 & 0.031858 & 0.042249 & 54 \\\\\n",
      "\\bottomrule\n",
      "\\end{tabular}\n",
      "\n"
     ]
    }
   ],
   "source": [
    "grid_search_file = \"grid_search_results.csv\"\n",
    "search_parameters = (\"pad_length\", \"hidden_layer_size\", \"learning_rate\")\n",
    "\n",
    "df = pd.read_csv(os.path.join(\"results\", grid_search_file))\n",
    "\n",
    "df = df[[*search_parameters, *metrics]]\n",
    "df = df.sort_values(by=\"test_ndcg@10\", ascending=False)\n",
    "print(df.to_latex(escape=True, index=False))"
   ]
  }
 ],
 "metadata": {
  "kernelspec": {
   "display_name": "rs",
   "language": "python",
   "name": "python3"
  },
  "language_info": {
   "codemirror_mode": {
    "name": "ipython",
    "version": 3
   },
   "file_extension": ".py",
   "mimetype": "text/x-python",
   "name": "python",
   "nbconvert_exporter": "python",
   "pygments_lexer": "ipython3",
   "version": "3.11.11"
  }
 },
 "nbformat": 4,
 "nbformat_minor": 5
}
