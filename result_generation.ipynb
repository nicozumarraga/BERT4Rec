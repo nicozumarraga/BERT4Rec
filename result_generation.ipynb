{
 "cells": [
  {
   "cell_type": "code",
   "execution_count": 1,
   "id": "66a500dc",
   "metadata": {},
   "outputs": [],
   "source": [
    "import pandas as pd\n",
    "import numpy as np\n",
    "import os"
   ]
  },
  {
   "cell_type": "markdown",
   "id": "c2b03469",
   "metadata": {},
   "source": [
    "# Ablation study"
   ]
  },
  {
   "cell_type": "code",
   "execution_count": 3,
   "id": "9f7d9169",
   "metadata": {},
   "outputs": [
    {
     "name": "stdout",
     "output_type": "stream",
     "text": [
      "\\begin{tabular}{rrrr}\n",
      "\\toprule\n",
      "hidden\\_layer\\_size & test\\_ndcg@10 & test\\_recall@10 & used\\_epochs \\\\\n",
      "\\midrule\n",
      "64 & 0.052596 & 0.152304 & 29 \\\\\n",
      "128 & 0.051736 & 0.149652 & 30 \\\\\n",
      "256 & 0.052069 & 0.152635 & 29 \\\\\n",
      "\\bottomrule\n",
      "\\end{tabular}\n",
      "\n",
      "\\begin{tabular}{rrrr}\n",
      "\\toprule\n",
      "mask\\_probability & test\\_ndcg@10 & test\\_recall@10 & used\\_epochs \\\\\n",
      "\\midrule\n",
      "0.150000 & 0.053268 & 0.151309 & 31 \\\\\n",
      "0.200000 & 0.051488 & 0.149321 & 29 \\\\\n",
      "0.400000 & 0.055613 & 0.162579 & 32 \\\\\n",
      "\\bottomrule\n",
      "\\end{tabular}\n",
      "\n",
      "\\begin{tabular}{rrrr}\n",
      "\\toprule\n",
      "max\\_sequence\\_length & test\\_ndcg@10 & test\\_recall@10 & used\\_epochs \\\\\n",
      "\\midrule\n",
      "100.000000 & 0.041641 & 0.120815 & 29 \\\\\n",
      "200.000000 & 0.053666 & 0.153795 & 29 \\\\\n",
      "NaN & 0.057627 & 0.165562 & 39 \\\\\n",
      "\\bottomrule\n",
      "\\end{tabular}\n",
      "\n",
      "\\begin{tabular}{rrrr}\n",
      "\\toprule\n",
      "num\\_hidden\\_layers & test\\_ndcg@10 & test\\_recall@10 & used\\_epochs \\\\\n",
      "\\midrule\n",
      "2 & 0.050259 & 0.146503 & 29 \\\\\n",
      "4 & 0.051603 & 0.149486 & 35 \\\\\n",
      "8 & 0.046355 & 0.131256 & 35 \\\\\n",
      "\\bottomrule\n",
      "\\end{tabular}\n",
      "\n",
      "\\begin{tabular}{rrrr}\n",
      "\\toprule\n",
      "pad\\_length & test\\_ndcg@10 & test\\_recall@10 & used\\_epochs \\\\\n",
      "\\midrule\n",
      "20 & 0.057141 & 0.162744 & 50 \\\\\n",
      "50 & 0.051507 & 0.147829 & 31 \\\\\n",
      "\\bottomrule\n",
      "\\end{tabular}\n",
      "\n"
     ]
    }
   ],
   "source": [
    "metrics = (\"test_ndcg@10\", \"test_recall@10\", \"used_epochs\")\n",
    "\n",
    "ablation_study_files = [\n",
    "    (\"layer_size_results.csv\", \"hidden_layer_size\"),\n",
    "    (\"masking_ratio_results.csv\", \"mask_probability\"),\n",
    "    (\"max_sequence_length_results.csv\", \"max_sequence_length\"),\n",
    "    (\"num_layers_results.csv\", \"num_hidden_layers\"),\n",
    "    (\"sequence_length_results.csv\", \"pad_length\"),\n",
    "]\n",
    "\n",
    "for file, parameter in ablation_study_files:\n",
    "    df = pd.read_csv(os.path.join(\"results\", file))\n",
    "    df = df[[parameter, *metrics]]\n",
    "    print(df.to_latex(index=False, escape=True))"
   ]
  },
  {
   "cell_type": "markdown",
   "id": "955925cc",
   "metadata": {},
   "source": [
    "# Grid search"
   ]
  },
  {
   "cell_type": "code",
   "execution_count": null,
   "id": "aa2d329d",
   "metadata": {},
   "outputs": [
    {
     "ename": "TypeError",
     "evalue": "DataFrame.sort_values() got an unexpected keyword argument 'reversed'",
     "output_type": "error",
     "traceback": [
      "\u001b[31m---------------------------------------------------------------------------\u001b[39m",
      "\u001b[31mTypeError\u001b[39m                                 Traceback (most recent call last)",
      "\u001b[36mCell\u001b[39m\u001b[36m \u001b[39m\u001b[32mIn[9]\u001b[39m\u001b[32m, line 7\u001b[39m\n\u001b[32m      4\u001b[39m df = pd.read_csv(os.path.join(\u001b[33m\"\u001b[39m\u001b[33mresults\u001b[39m\u001b[33m\"\u001b[39m, grid_search_file))\n\u001b[32m      6\u001b[39m df = df[[*search_parameters, *metrics]]\n\u001b[32m----> \u001b[39m\u001b[32m7\u001b[39m df = \u001b[43mdf\u001b[49m\u001b[43m.\u001b[49m\u001b[43msort_values\u001b[49m\u001b[43m(\u001b[49m\u001b[43mby\u001b[49m\u001b[43m=\u001b[49m\u001b[33;43m\"\u001b[39;49m\u001b[33;43mtest_ndcg@10\u001b[39;49m\u001b[33;43m\"\u001b[39;49m\u001b[43m,\u001b[49m\u001b[43m \u001b[49m\u001b[38;5;28;43mreversed\u001b[39;49m\u001b[43m=\u001b[49m\u001b[38;5;28;43;01mTrue\u001b[39;49;00m\u001b[43m)\u001b[49m\n\u001b[32m      8\u001b[39m \u001b[38;5;28mprint\u001b[39m(df.to_latex(escape=\u001b[38;5;28;01mTrue\u001b[39;00m, index=\u001b[38;5;28;01mFalse\u001b[39;00m))\n",
      "\u001b[31mTypeError\u001b[39m: DataFrame.sort_values() got an unexpected keyword argument 'reversed'"
     ]
    }
   ],
   "source": [
    "grid_search_file = \"grid_search_results.csv\"\n",
    "search_parameters = (\"pad_length\", \"hidden_layer_size\", \"learning_rate\")\n",
    "\n",
    "df = pd.read_csv(os.path.join(\"results\", grid_search_file))\n",
    "\n",
    "df = df[[*search_parameters, *metrics]]\n",
    "df = df.sort_values(by=\"test_ndcg@10\", ascending=False)\n",
    "print(df.to_latex(escape=True, index=False))"
   ]
  }
 ],
 "metadata": {
  "kernelspec": {
   "display_name": "rs",
   "language": "python",
   "name": "python3"
  },
  "language_info": {
   "codemirror_mode": {
    "name": "ipython",
    "version": 3
   },
   "file_extension": ".py",
   "mimetype": "text/x-python",
   "name": "python",
   "nbconvert_exporter": "python",
   "pygments_lexer": "ipython3",
   "version": "3.11.11"
  }
 },
 "nbformat": 4,
 "nbformat_minor": 5
}
