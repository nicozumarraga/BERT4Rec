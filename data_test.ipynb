{
 "cells": [
  {
   "cell_type": "code",
   "execution_count": 1,
   "metadata": {},
   "outputs": [],
   "source": [
    "from dataset import Dataset"
   ]
  },
  {
   "cell_type": "code",
   "execution_count": 2,
   "metadata": {},
   "outputs": [],
   "source": [
    "dataset = Dataset(path=\"data/\")"
   ]
  },
  {
   "cell_type": "code",
   "execution_count": 3,
   "metadata": {},
   "outputs": [],
   "source": [
    "ratings = dataset.ratings"
   ]
  },
  {
   "cell_type": "code",
   "execution_count": 4,
   "metadata": {},
   "outputs": [
    {
     "data": {
      "text/html": [
       "<div>\n",
       "<style scoped>\n",
       "    .dataframe tbody tr th:only-of-type {\n",
       "        vertical-align: middle;\n",
       "    }\n",
       "\n",
       "    .dataframe tbody tr th {\n",
       "        vertical-align: top;\n",
       "    }\n",
       "\n",
       "    .dataframe thead th {\n",
       "        text-align: right;\n",
       "    }\n",
       "</style>\n",
       "<table border=\"1\" class=\"dataframe\">\n",
       "  <thead>\n",
       "    <tr style=\"text-align: right;\">\n",
       "      <th></th>\n",
       "      <th>dense_movie_id</th>\n",
       "    </tr>\n",
       "    <tr>\n",
       "      <th>user_id</th>\n",
       "      <th></th>\n",
       "    </tr>\n",
       "  </thead>\n",
       "  <tbody>\n",
       "    <tr>\n",
       "      <th>1</th>\n",
       "      <td>[2839, 906, 1115, 1492, 1572, 3029, 2478, 1054...</td>\n",
       "    </tr>\n",
       "    <tr>\n",
       "      <th>2</th>\n",
       "      <td>[1045, 1057, 1138, 2611, 1072, 301, 1041, 2528...</td>\n",
       "    </tr>\n",
       "    <tr>\n",
       "      <th>3</th>\n",
       "      <td>[2528, 1697, 1690, 1111, 1213, 1212, 3269, 563...</td>\n",
       "    </tr>\n",
       "    <tr>\n",
       "      <th>4</th>\n",
       "      <td>[972, 457, 3084, 1045, 1219, 247, 1756, 1048, ...</td>\n",
       "    </tr>\n",
       "    <tr>\n",
       "      <th>5</th>\n",
       "      <td>[809, 798, 1095, 2528, 2661, 2444, 2577, 2055,...</td>\n",
       "    </tr>\n",
       "    <tr>\n",
       "      <th>...</th>\n",
       "      <td>...</td>\n",
       "    </tr>\n",
       "    <tr>\n",
       "      <th>6036</th>\n",
       "      <td>[1492, 1614, 2528, 2661, 2385, 213, 968, 2852,...</td>\n",
       "    </tr>\n",
       "    <tr>\n",
       "      <th>6037</th>\n",
       "      <td>[1756, 1112, 760, 2804, 538, 1068, 802, 813, 1...</td>\n",
       "    </tr>\n",
       "    <tr>\n",
       "      <th>6038</th>\n",
       "      <td>[1057, 1872, 338, 954, 3160, 1005, 2746, 221, ...</td>\n",
       "    </tr>\n",
       "    <tr>\n",
       "      <th>6039</th>\n",
       "      <td>[108, 269, 1793, 820, 2684, 2746, 2478, 845, 1...</td>\n",
       "    </tr>\n",
       "    <tr>\n",
       "      <th>6040</th>\n",
       "      <td>[760, 2084, 565, 1690, 1747, 204, 549, 3118, 2...</td>\n",
       "    </tr>\n",
       "  </tbody>\n",
       "</table>\n",
       "<p>6034 rows × 1 columns</p>\n",
       "</div>"
      ],
      "text/plain": [
       "                                            dense_movie_id\n",
       "user_id                                                   \n",
       "1        [2839, 906, 1115, 1492, 1572, 3029, 2478, 1054...\n",
       "2        [1045, 1057, 1138, 2611, 1072, 301, 1041, 2528...\n",
       "3        [2528, 1697, 1690, 1111, 1213, 1212, 3269, 563...\n",
       "4        [972, 457, 3084, 1045, 1219, 247, 1756, 1048, ...\n",
       "5        [809, 798, 1095, 2528, 2661, 2444, 2577, 2055,...\n",
       "...                                                    ...\n",
       "6036     [1492, 1614, 2528, 2661, 2385, 213, 968, 2852,...\n",
       "6037     [1756, 1112, 760, 2804, 538, 1068, 802, 813, 1...\n",
       "6038     [1057, 1872, 338, 954, 3160, 1005, 2746, 221, ...\n",
       "6039     [108, 269, 1793, 820, 2684, 2746, 2478, 845, 1...\n",
       "6040     [760, 2084, 565, 1690, 1747, 204, 549, 3118, 2...\n",
       "\n",
       "[6034 rows x 1 columns]"
      ]
     },
     "execution_count": 4,
     "metadata": {},
     "output_type": "execute_result"
    }
   ],
   "source": [
    "ratings\n",
    "# these are now individual ratings above 4,\n",
    "# for a movie id that is dense and above 2 (we keep 0 and 1 for padding and masking)\n",
    "# and ordered by timestamp (grouped by users)"
   ]
  },
  {
   "cell_type": "code",
   "execution_count": null,
   "metadata": {},
   "outputs": [],
   "source": []
  }
 ],
 "metadata": {
  "kernelspec": {
   "display_name": "venv",
   "language": "python",
   "name": "python3"
  },
  "language_info": {
   "codemirror_mode": {
    "name": "ipython",
    "version": 3
   },
   "file_extension": ".py",
   "mimetype": "text/x-python",
   "name": "python",
   "nbconvert_exporter": "python",
   "pygments_lexer": "ipython3",
   "version": "3.12.4"
  }
 },
 "nbformat": 4,
 "nbformat_minor": 2
}
