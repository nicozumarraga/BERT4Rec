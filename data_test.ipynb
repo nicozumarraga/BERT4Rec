{
 "cells": [
  {
   "cell_type": "code",
   "execution_count": 1,
   "metadata": {},
   "outputs": [],
   "source": [
    "from data_preprocessing import DataPreprocessing"
   ]
  },
  {
   "cell_type": "code",
   "execution_count": 2,
   "metadata": {},
   "outputs": [],
   "source": [
    "data_preprocessor = DataPreprocessing(path=\"data/\")"
   ]
  },
  {
   "cell_type": "code",
   "execution_count": 3,
   "metadata": {},
   "outputs": [],
   "source": [
    "ratings = data_preprocessor.ratings"
   ]
  },
  {
   "cell_type": "code",
   "execution_count": 4,
   "metadata": {},
   "outputs": [
    {
     "data": {
      "text/html": [
       "<div>\n",
       "<style scoped>\n",
       "    .dataframe tbody tr th:only-of-type {\n",
       "        vertical-align: middle;\n",
       "    }\n",
       "\n",
       "    .dataframe tbody tr th {\n",
       "        vertical-align: top;\n",
       "    }\n",
       "\n",
       "    .dataframe thead th {\n",
       "        text-align: right;\n",
       "    }\n",
       "</style>\n",
       "<table border=\"1\" class=\"dataframe\">\n",
       "  <thead>\n",
       "    <tr style=\"text-align: right;\">\n",
       "      <th></th>\n",
       "      <th>user_id</th>\n",
       "      <th>dense_movie_id</th>\n",
       "    </tr>\n",
       "  </thead>\n",
       "  <tbody>\n",
       "    <tr>\n",
       "      <th>0</th>\n",
       "      <td>1</td>\n",
       "      <td>[2839, 906, 1115, 1492, 1572, 3029, 2478, 1054...</td>\n",
       "    </tr>\n",
       "    <tr>\n",
       "      <th>1</th>\n",
       "      <td>2</td>\n",
       "      <td>[1045, 1057, 1138, 2611, 1072, 301, 1041, 2528...</td>\n",
       "    </tr>\n",
       "    <tr>\n",
       "      <th>2</th>\n",
       "      <td>3</td>\n",
       "      <td>[2528, 1697, 1690, 1111, 1213, 1212, 3269, 563...</td>\n",
       "    </tr>\n",
       "    <tr>\n",
       "      <th>3</th>\n",
       "      <td>4</td>\n",
       "      <td>[972, 457, 3084, 1045, 1219, 247, 1756, 1048, ...</td>\n",
       "    </tr>\n",
       "    <tr>\n",
       "      <th>4</th>\n",
       "      <td>5</td>\n",
       "      <td>[809, 798, 1095, 2528, 2661, 2444, 2577, 2055,...</td>\n",
       "    </tr>\n",
       "    <tr>\n",
       "      <th>...</th>\n",
       "      <td>...</td>\n",
       "      <td>...</td>\n",
       "    </tr>\n",
       "    <tr>\n",
       "      <th>6029</th>\n",
       "      <td>6036</td>\n",
       "      <td>[1492, 1614, 2528, 2661, 2385, 213, 968, 2852,...</td>\n",
       "    </tr>\n",
       "    <tr>\n",
       "      <th>6030</th>\n",
       "      <td>6037</td>\n",
       "      <td>[1756, 1112, 760, 2804, 538, 1068, 802, 813, 1...</td>\n",
       "    </tr>\n",
       "    <tr>\n",
       "      <th>6031</th>\n",
       "      <td>6038</td>\n",
       "      <td>[1057, 1872, 338, 954, 3160, 1005, 2746, 221, ...</td>\n",
       "    </tr>\n",
       "    <tr>\n",
       "      <th>6032</th>\n",
       "      <td>6039</td>\n",
       "      <td>[108, 269, 1793, 820, 2684, 2746, 2478, 845, 1...</td>\n",
       "    </tr>\n",
       "    <tr>\n",
       "      <th>6033</th>\n",
       "      <td>6040</td>\n",
       "      <td>[760, 2084, 565, 1690, 1747, 204, 549, 3118, 2...</td>\n",
       "    </tr>\n",
       "  </tbody>\n",
       "</table>\n",
       "<p>6034 rows × 2 columns</p>\n",
       "</div>"
      ],
      "text/plain": [
       "      user_id                                     dense_movie_id\n",
       "0           1  [2839, 906, 1115, 1492, 1572, 3029, 2478, 1054...\n",
       "1           2  [1045, 1057, 1138, 2611, 1072, 301, 1041, 2528...\n",
       "2           3  [2528, 1697, 1690, 1111, 1213, 1212, 3269, 563...\n",
       "3           4  [972, 457, 3084, 1045, 1219, 247, 1756, 1048, ...\n",
       "4           5  [809, 798, 1095, 2528, 2661, 2444, 2577, 2055,...\n",
       "...       ...                                                ...\n",
       "6029     6036  [1492, 1614, 2528, 2661, 2385, 213, 968, 2852,...\n",
       "6030     6037  [1756, 1112, 760, 2804, 538, 1068, 802, 813, 1...\n",
       "6031     6038  [1057, 1872, 338, 954, 3160, 1005, 2746, 221, ...\n",
       "6032     6039  [108, 269, 1793, 820, 2684, 2746, 2478, 845, 1...\n",
       "6033     6040  [760, 2084, 565, 1690, 1747, 204, 549, 3118, 2...\n",
       "\n",
       "[6034 rows x 2 columns]"
      ]
     },
     "execution_count": 4,
     "metadata": {},
     "output_type": "execute_result"
    }
   ],
   "source": [
    "ratings\n",
    "# these are now individual user-ratings above 4,\n",
    "# for a movie id that is dense and above 2 (we keep 0 and 1 for padding and masking)\n",
    "# and ordered by timestamp (grouped by users)\n",
    "# users with less than 5 interactions have been removed too."
   ]
  },
  {
   "cell_type": "code",
   "execution_count": 5,
   "metadata": {},
   "outputs": [],
   "source": [
    "from data_processing import DataProcessing\n",
    "\n",
    "dataprocessing = DataProcessing()\n"
   ]
  },
  {
   "cell_type": "code",
   "execution_count": 6,
   "metadata": {},
   "outputs": [
    {
     "name": "stdout",
     "output_type": "stream",
     "text": [
      "\n",
      "Count of training items: 6034\n",
      "Count of validation items: 6034\n",
      "Count of testing items: 6034\n",
      "(train) Length is padded to: 20\n",
      "(val) Length is padded to: 20\n",
      "(test) Length is padded to: 20\n",
      "first train sequence: [577, 2369, 1690, 1756, 2763, 828, 919, 1691, 912, 141, 1746, 972, 1132, 2471, 2436, 1091, 2586, 508, 2772, 2465] for user 1\n",
      "first val sequence: [1691, 912, 141, 1746, 972, 1132, 2471, 2436, 1091, 2586, 508, 2772, 2465, 913, 566, 2098, 1347, 504, 2, 561] for user 1\n",
      "first test sequence: [2436, 1091, 2586, 508, 2772, 2465, 913, 566, 2098, 1347, 504, 2, 561, 567, 706, 2055, 1998, 1637, 1363, 49] for user 1\n",
      "full sequence: [2839, 906, 1115, 1492, 1572, 3029, 2478, 1054, 1041, 247, 809, 577, 2369, 1690, 1756, 2763, 828, 919, 1691, 912, 141, 1746, 972, 1132, 2471, 2436, 1091, 2586, 508, 2772, 2465, 913, 566, 2098, 1347, 504, 2, 561, 567, 706, 2055, 1998, 1637, 1363, 49]\n",
      "    (so 6.75 extra items are in validation split, which is rounded up)\n",
      "\n"
     ]
    }
   ],
   "source": [
    "print(f\"\"\"\n",
    "Count of training items: {len(dataprocessing.train_df)}\n",
    "Count of validation items: {len(dataprocessing.val_df)}\n",
    "Count of testing items: {len(dataprocessing.test_df)}\n",
    "(train) Length is padded to: {len(max(dataprocessing.train_df[\"input_seq\"], key=lambda x: len(x)))}\n",
    "(val) Length is padded to: {len(max(dataprocessing.val_df[\"input_seq\"], key=lambda x: len(x)))}\n",
    "(test) Length is padded to: {len(max(dataprocessing.test_df[\"input_seq\"], key=lambda x: len(x)))}\n",
    "first train sequence: {dataprocessing.train_df[\"input_seq\"][0]} for user {dataprocessing.train_df[\"user_id\"][0]}\n",
    "first val sequence: {dataprocessing.val_df[\"input_seq\"][0]} for user {dataprocessing.val_df[\"user_id\"][0]}\n",
    "first test sequence: {dataprocessing.test_df[\"input_seq\"][0]} for user {dataprocessing.test_df[\"user_id\"][0]}\n",
    "full sequence: {ratings[\"dense_movie_id\"][0]}\n",
    "    (so {0.15 * len(eval(ratings[\"dense_movie_id\"][0]))} extra items are in validation split, which is rounded up)\n",
    "\"\"\")"
   ]
  },
  {
   "cell_type": "code",
   "execution_count": 9,
   "metadata": {},
   "outputs": [],
   "source": [
    "train_loader, val_loader, test_loader = dataprocessing.get_dataloaders(batch_size=1)"
   ]
  },
  {
   "cell_type": "code",
   "execution_count": 10,
   "metadata": {},
   "outputs": [
    {
     "name": "stdout",
     "output_type": "stream",
     "text": [
      "{'user_id': tensor([5983]), 'input_ids': tensor([[   0,    0,    0,    0, 1697,  107, 1207, 2981, 1043,  972, 3087,    1,\n",
      "         1085, 1115,    1, 1208, 1047,  457, 1866, 1046]]), 'attention_mask': tensor([[0, 0, 0, 0, 1, 1, 1, 1, 1, 1, 1, 1, 1, 1, 1, 1, 1, 1, 1, 1]]), 'labels': tensor([[-100, -100, -100, -100, -100, -100, -100, -100, -100, -100, -100,  814,\n",
      "         -100, -100, 2225, -100, -100, -100, -100, -100]])}\n"
     ]
    }
   ],
   "source": [
    "for batch in train_loader:\n",
    "    print(batch)\n",
    "    break"
   ]
  }
 ],
 "metadata": {
  "kernelspec": {
   "display_name": "rs",
   "language": "python",
   "name": "python3"
  },
  "language_info": {
   "codemirror_mode": {
    "name": "ipython",
    "version": 3
   },
   "file_extension": ".py",
   "mimetype": "text/x-python",
   "name": "python",
   "nbconvert_exporter": "python",
   "pygments_lexer": "ipython3",
   "version": "3.11.11"
  }
 },
 "nbformat": 4,
 "nbformat_minor": 2
}
